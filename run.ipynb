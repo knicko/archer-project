{
 "cells": [
  {
   "cell_type": "markdown",
   "metadata": {},
   "source": [
    "# Archer IRM Marketplace Competition Project"
   ]
  },
  {
   "cell_type": "markdown",
   "metadata": {},
   "source": [
    "This is a project assigned from my mother who is in charge of the Archer IRM Marketplace. This project will start off with scraping the data for Archer IRM marketplace and then the other marketplaces. Some data will not be the same for each marketplace but any similarities will be made.\n",
    "\n",
    "Once the data is scraped, there will be a thorough cleaning process for the data. \n",
    "\n",
    "After cleaning, the clean data will be analyzed in Tableau. \n",
    "\n",
    "The goal of this project is to analyze and showcase Archer's strengths, weaknesses, and areas of growth VS. all other IRM marketplaces. Although there are 10+ more marketplaces, I've chosen to only gather data from the top 4 competitors of Archer. The \"goal\" will be showcased in a sharable interactive Tableau dashboard."
   ]
  },
  {
   "cell_type": "markdown",
   "metadata": {},
   "source": [
    "# Data Acquiring / Scraping"
   ]
  },
  {
   "cell_type": "markdown",
   "metadata": {},
   "source": [
    "What we want to scrape for each platform is:\n",
    "- Applications on marketplace\n",
    "    From here, we can scrape:\n",
    "    - Price\n",
    "    - Private or Public application? (contact for pricing or set price?)\n",
    "    - Date application was posted on site\n",
    "    - Date application was last updated\n",
    "    - Number of updates application has\n",
    "    - Rating of application\n",
    "    - Partner or Vendor?\n",
    "    - Platform integration options?"
   ]
  },
  {
   "cell_type": "markdown",
   "metadata": {},
   "source": [
    "### Imports"
   ]
  },
  {
   "cell_type": "code",
   "execution_count": 1,
   "metadata": {},
   "outputs": [],
   "source": [
    "import requests\n",
    "import pandas as pd \n",
    "import numpy as np \n",
    "from bs4 import BeautifulSoup"
   ]
  },
  {
   "cell_type": "markdown",
   "metadata": {},
   "source": [
    "## 1.  SalesForce Appxchange\n",
    "\n",
    "https://appexchange.salesforce.com/appxStore\n"
   ]
  },
  {
   "cell_type": "code",
   "execution_count": 2,
   "metadata": {},
   "outputs": [],
   "source": [
    "\n",
    "def app_price_id(link):\n",
    "\n",
    "    page = requests.get(link)\n",
    "\n",
    "    soup = BeautifulSoup(page.text, 'html.parser')\n",
    "    applications = soup.find_all('a', class_ = 'appx-tile appx-tile-app tile-link-click')\n",
    "\n",
    "    # script = soup.select_one('[type=\"text/show-more\"]')\n",
    "    # script.replace_with(BeautifulSoup(script.contents[0], \"html.parser\"))\n",
    "\n",
    "    \n",
    "    app_list = []\n",
    "    price_list = []\n",
    "\n",
    "    for app in applications:\n",
    "        app_name = app.find('span', class_ = 'appx-tile-content-el').text.strip()\n",
    "        paid_or_free = app.find('span', class_ = 'appx-price').text.strip()\n",
    "\n",
    "        app_list.append(app_name)\n",
    "        price_list.append(paid_or_free)\n",
    "    \n",
    "    data_listing_ids = [item['data-listing-id'] for item in soup.find_all('a', attrs={'data-listing-id' : True})]\n",
    "\n",
    "    return pd.DataFrame({'app': app_list,'price': price_list, 'id': data_listing_ids})"
   ]
  },
  {
   "cell_type": "code",
   "execution_count": 3,
   "metadata": {},
   "outputs": [],
   "source": [
    "df = app_price_id('https://appexchange.salesforce.com/appxStore')"
   ]
  },
  {
   "cell_type": "code",
   "execution_count": 4,
   "metadata": {},
   "outputs": [
    {
     "data": {
      "text/html": [
       "<div>\n",
       "<style scoped>\n",
       "    .dataframe tbody tr th:only-of-type {\n",
       "        vertical-align: middle;\n",
       "    }\n",
       "\n",
       "    .dataframe tbody tr th {\n",
       "        vertical-align: top;\n",
       "    }\n",
       "\n",
       "    .dataframe thead th {\n",
       "        text-align: right;\n",
       "    }\n",
       "</style>\n",
       "<table border=\"1\" class=\"dataframe\">\n",
       "  <thead>\n",
       "    <tr style=\"text-align: right;\">\n",
       "      <th></th>\n",
       "      <th>app</th>\n",
       "      <th>price</th>\n",
       "      <th>id</th>\n",
       "    </tr>\n",
       "  </thead>\n",
       "  <tbody>\n",
       "    <tr>\n",
       "      <th>0</th>\n",
       "      <td>Salesforce Adoption Dashboards</td>\n",
       "      <td>Free</td>\n",
       "      <td>a0N30000004gHhLEAU</td>\n",
       "    </tr>\n",
       "    <tr>\n",
       "      <th>1</th>\n",
       "      <td>User Access and Permissions Assistant</td>\n",
       "      <td>Free</td>\n",
       "      <td>a0N3A00000FeF99UAF</td>\n",
       "    </tr>\n",
       "    <tr>\n",
       "      <th>2</th>\n",
       "      <td>Query Studio for Marketing Cloud</td>\n",
       "      <td>Free</td>\n",
       "      <td>a0N3A00000FP3yFUAT</td>\n",
       "    </tr>\n",
       "    <tr>\n",
       "      <th>3</th>\n",
       "      <td>DocuSign eSignature for Salesforce: The truste...</td>\n",
       "      <td>Paid</td>\n",
       "      <td>a0N30000001taX4EAI</td>\n",
       "    </tr>\n",
       "    <tr>\n",
       "      <th>4</th>\n",
       "      <td>LinkedIn Sales Navigator for Salesforce</td>\n",
       "      <td>Paid</td>\n",
       "      <td>a0N3u00000PGfWTEA1</td>\n",
       "    </tr>\n",
       "  </tbody>\n",
       "</table>\n",
       "</div>"
      ],
      "text/plain": [
       "                                                 app price                  id\n",
       "0                     Salesforce Adoption Dashboards  Free  a0N30000004gHhLEAU\n",
       "1              User Access and Permissions Assistant  Free  a0N3A00000FeF99UAF\n",
       "2                   Query Studio for Marketing Cloud  Free  a0N3A00000FP3yFUAT\n",
       "3  DocuSign eSignature for Salesforce: The truste...  Paid  a0N30000001taX4EAI\n",
       "4            LinkedIn Sales Navigator for Salesforce  Paid  a0N3u00000PGfWTEA1"
      ]
     },
     "execution_count": 4,
     "metadata": {},
     "output_type": "execute_result"
    }
   ],
   "source": [
    "df.head()"
   ]
  },
  {
   "cell_type": "markdown",
   "metadata": {},
   "source": [
    "Notes: Just needs to use Selenium to click on View More button then perform scrape. "
   ]
  },
  {
   "cell_type": "markdown",
   "metadata": {},
   "source": [
    "- App by who?\n",
    "- Exact number rating\n",
    "- How many ratings\n",
    "- Price\n",
    "- Number of Languages\n",
    "- First Release Date\n",
    "- Latest Release Date\n",
    "- Last Reviewed Date\n",
    "\n",
    "Provider Details\n",
    "- Founded Date ()\n",
    "- Location (heatmap of applications for salesforce)"
   ]
  },
  {
   "cell_type": "code",
   "execution_count": 9,
   "metadata": {},
   "outputs": [
    {
     "data": {
      "text/plain": [
       "<Response [200]>"
      ]
     },
     "execution_count": 9,
     "metadata": {},
     "output_type": "execute_result"
    }
   ],
   "source": [
    "page2 = requests.get('https://appexchange.salesforce.com/appxListingDetail?listingId=' + df['id'][0])"
   ]
  },
  {
   "cell_type": "code",
   "execution_count": 26,
   "metadata": {},
   "outputs": [],
   "source": [
    "soup2 = BeautifulSoup(page2.content, 'html.parser')"
   ]
  },
  {
   "cell_type": "code",
   "execution_count": 29,
   "metadata": {},
   "outputs": [],
   "source": [
    "app_title = soup2.find('div', class_ = 'content')\n"
   ]
  },
  {
   "cell_type": "code",
   "execution_count": 33,
   "metadata": {},
   "outputs": [
    {
     "ename": "SyntaxError",
     "evalue": "invalid syntax. Maybe you meant '==' or ':=' instead of '='? (164958142.py, line 1)",
     "output_type": "error",
     "traceback": [
      "\u001b[1;36m  Cell \u001b[1;32mIn[33], line 1\u001b[1;36m\u001b[0m\n\u001b[1;33m    soup2.find_all('p', attrs={class_ = 'publisher'})\u001b[0m\n\u001b[1;37m                               ^\u001b[0m\n\u001b[1;31mSyntaxError\u001b[0m\u001b[1;31m:\u001b[0m invalid syntax. Maybe you meant '==' or ':=' instead of '='?\n"
     ]
    }
   ],
   "source": [
    "soup2.find_all('p', attrs={ class_ = 'publisher'})"
   ]
  },
  {
   "cell_type": "code",
   "execution_count": 38,
   "metadata": {},
   "outputs": [
    {
     "data": {
      "text/plain": [
       "[]"
      ]
     },
     "execution_count": 38,
     "metadata": {},
     "output_type": "execute_result"
    }
   ],
   "source": [
    "soup2.find_all('p', string='By Salesforce Labs')"
   ]
  },
  {
   "cell_type": "code",
   "execution_count": 32,
   "metadata": {},
   "outputs": [
    {
     "ename": "IndexError",
     "evalue": "list index out of range",
     "output_type": "error",
     "traceback": [
      "\u001b[1;31m---------------------------------------------------------------------------\u001b[0m",
      "\u001b[1;31mIndexError\u001b[0m                                Traceback (most recent call last)",
      "\u001b[1;32mc:\\Users\\dope\\Desktop\\Mom Project\\run.ipynb Cell 17\u001b[0m line \u001b[0;36m1\n\u001b[1;32m----> <a href='vscode-notebook-cell:/c%3A/Users/dope/Desktop/Mom%20Project/run.ipynb#X41sZmlsZQ%3D%3D?line=0'>1</a>\u001b[0m \u001b[39mprint\u001b[39m([i\u001b[39m.\u001b[39;49mtext \u001b[39mfor\u001b[39;49;00m i \u001b[39min\u001b[39;49;00m soup2\u001b[39m.\u001b[39;49mselect(\u001b[39m'\u001b[39;49m\u001b[39mp.publisher\u001b[39;49m\u001b[39m'\u001b[39;49m)][\u001b[39m0\u001b[39;49m])\n",
      "\u001b[1;31mIndexError\u001b[0m: list index out of range"
     ]
    }
   ],
   "source": [
    "print([i.text for i in soup2.select('p.publisher')][0])"
   ]
  },
  {
   "cell_type": "code",
   "execution_count": null,
   "metadata": {},
   "outputs": [],
   "source": []
  },
  {
   "cell_type": "code",
   "execution_count": null,
   "metadata": {},
   "outputs": [],
   "source": []
  },
  {
   "cell_type": "code",
   "execution_count": 16,
   "metadata": {},
   "outputs": [],
   "source": [
    "soup2.find('span', {'aria-hidden': 'true'})"
   ]
  },
  {
   "cell_type": "code",
   "execution_count": 23,
   "metadata": {},
   "outputs": [
    {
     "data": {
      "text/plain": [
       "[]"
      ]
     },
     "execution_count": 23,
     "metadata": {},
     "output_type": "execute_result"
    }
   ],
   "source": [
    "soup2.findAll('p')"
   ]
  },
  {
   "cell_type": "code",
   "execution_count": 20,
   "metadata": {},
   "outputs": [
    {
     "ename": "AttributeError",
     "evalue": "ResultSet object has no attribute 'get_text'. You're probably treating a list of elements like a single element. Did you call find_all() when you meant to call find()?",
     "output_type": "error",
     "traceback": [
      "\u001b[1;31m---------------------------------------------------------------------------\u001b[0m",
      "\u001b[1;31mAttributeError\u001b[0m                            Traceback (most recent call last)",
      "\u001b[1;32mc:\\Users\\dope\\Desktop\\Mom Project\\run.ipynb Cell 17\u001b[0m line \u001b[0;36m2\n\u001b[0;32m      <a href='vscode-notebook-cell:/c%3A/Users/dope/Desktop/Mom%20Project/run.ipynb#X21sZmlsZQ%3D%3D?line=0'>1</a>\u001b[0m app_creator \u001b[39m=\u001b[39m soup2\u001b[39m.\u001b[39mfind_all(\u001b[39m'\u001b[39m\u001b[39mp\u001b[39m\u001b[39m'\u001b[39m, class_ \u001b[39m=\u001b[39m \u001b[39m'\u001b[39m\u001b[39mpublisher\u001b[39m\u001b[39m'\u001b[39m)\n\u001b[1;32m----> <a href='vscode-notebook-cell:/c%3A/Users/dope/Desktop/Mom%20Project/run.ipynb#X21sZmlsZQ%3D%3D?line=1'>2</a>\u001b[0m app_creator\u001b[39m.\u001b[39;49mget_text()\n",
      "File \u001b[1;32mc:\\Users\\dope\\AppData\\Local\\Programs\\Python\\Python312\\Lib\\site-packages\\bs4\\element.py:2428\u001b[0m, in \u001b[0;36mResultSet.__getattr__\u001b[1;34m(self, key)\u001b[0m\n\u001b[0;32m   2426\u001b[0m \u001b[39mdef\u001b[39;00m \u001b[39m__getattr__\u001b[39m(\u001b[39mself\u001b[39m, key):\n\u001b[0;32m   2427\u001b[0m \u001b[39m    \u001b[39m\u001b[39m\"\"\"Raise a helpful exception to explain a common code fix.\"\"\"\u001b[39;00m\n\u001b[1;32m-> 2428\u001b[0m     \u001b[39mraise\u001b[39;00m \u001b[39mAttributeError\u001b[39;00m(\n\u001b[0;32m   2429\u001b[0m         \u001b[39m\"\u001b[39m\u001b[39mResultSet object has no attribute \u001b[39m\u001b[39m'\u001b[39m\u001b[39m%s\u001b[39;00m\u001b[39m'\u001b[39m\u001b[39m. You\u001b[39m\u001b[39m'\u001b[39m\u001b[39mre probably treating a list of elements like a single element. Did you call find_all() when you meant to call find()?\u001b[39m\u001b[39m\"\u001b[39m \u001b[39m%\u001b[39m key\n\u001b[0;32m   2430\u001b[0m     )\n",
      "\u001b[1;31mAttributeError\u001b[0m: ResultSet object has no attribute 'get_text'. You're probably treating a list of elements like a single element. Did you call find_all() when you meant to call find()?"
     ]
    }
   ],
   "source": [
    "app_creator = soup2.find_all('p', class_ = 'publisher')\n",
    "app_creator.get_text()"
   ]
  },
  {
   "cell_type": "code",
   "execution_count": null,
   "metadata": {},
   "outputs": [],
   "source": []
  },
  {
   "cell_type": "code",
   "execution_count": null,
   "metadata": {},
   "outputs": [],
   "source": []
  },
  {
   "cell_type": "code",
   "execution_count": null,
   "metadata": {},
   "outputs": [],
   "source": []
  },
  {
   "cell_type": "code",
   "execution_count": null,
   "metadata": {},
   "outputs": [],
   "source": []
  },
  {
   "cell_type": "code",
   "execution_count": 81,
   "metadata": {},
   "outputs": [],
   "source": [
    "hrefs = [a['href'] for a in soup.find_all('a', href=True)]"
   ]
  },
  {
   "cell_type": "markdown",
   "metadata": {},
   "source": []
  },
  {
   "cell_type": "markdown",
   "metadata": {},
   "source": [
    "- Scrape data on \n",
    "\n",
    "https://www.onetrust.com/integrations/\n",
    "https://www.metricstream.com/platform/marketplace.html\n",
    "https://store.servicenow.com/sn_appstore_store.do#!/store/home\n",
    "https://archerirm.exchange/en-US/listing?page=1&locale=en-US\n"
   ]
  }
 ],
 "metadata": {
  "kernelspec": {
   "display_name": "Python 3",
   "language": "python",
   "name": "python3"
  },
  "language_info": {
   "codemirror_mode": {
    "name": "ipython",
    "version": 3
   },
   "file_extension": ".py",
   "mimetype": "text/x-python",
   "name": "python",
   "nbconvert_exporter": "python",
   "pygments_lexer": "ipython3",
   "version": "3.12.0"
  }
 },
 "nbformat": 4,
 "nbformat_minor": 2
}
